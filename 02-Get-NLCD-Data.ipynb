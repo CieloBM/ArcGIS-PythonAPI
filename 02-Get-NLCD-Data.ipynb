{
 "cells": [
  {
   "cell_type": "markdown",
   "metadata": {},
   "source": [
    "# Grab land cover for a given parcel\n",
    "*Resource: https://developers.arcgis.com/python/guide/raster-analysis-advanced-concepts/*\n",
    "\n",
    "Say you want to grab land cover data for a specific location, but you don't want to download the entire NLCD dataset to do that. The ArcGIS Python API can help!\n",
    "\n",
    "Here I present an example of doing just that. The steps involve:\n",
    "* Prepping for the analysis: importing modules and authenticating our arcgis session\n",
    "* Locating the land cover data and creating a layer from the data"
   ]
  },
  {
   "cell_type": "markdown",
   "metadata": {},
   "source": [
    "### Prepping for analysis: importing and authenticating\n",
    "* Import the the arcgis `GIS` module. We're going to do some geocoding so we need to create the arcgis `geocoding` module as well. Lastly, enable the Jupyter `display` object"
   ]
  },
  {
   "cell_type": "code",
   "execution_count": null,
   "metadata": {},
   "outputs": [],
   "source": [
    "#Import the GIS object.  and display modules\n",
    "from arcgis import GIS\n",
    "from arcgis.geocoding import geocode\n",
    "from IPython.display import display, Image"
   ]
  },
  {
   "cell_type": "markdown",
   "metadata": {},
   "source": [
    "* Authenticate our GIS object using our ArcGIS Pro account"
   ]
  },
  {
   "cell_type": "code",
   "execution_count": null,
   "metadata": {},
   "outputs": [],
   "source": [
    "#Create the GIS object, authenticating with your ArcGIS Pro account\n",
    "gis = GIS('pro')"
   ]
  },
  {
   "cell_type": "markdown",
   "metadata": {},
   "source": [
    "### Searching for the content and linking to it\n",
    "What we want is 2011 NLCD data, provided as an *image service* (i.e. as a raster). You could search for the data from within ArcGIS Pro or via the [ArcGIS Online](http://www.arcgis.com) website, but we'll do it right here. \n",
    "\n",
    "Like any web search, it's a bit of an art knowing how best to locate the resource you want. At play are what general search keywords to include, and specific categories like `owner` or `item-type` to invoke. We do, however, want to search outside the Duke Community, we we want to include `outside_org=True`. \n",
    "\n",
    "I've decided to use `NLCD 2011` as a general search term, filter results for only those that `esri` provides, and limit results to image services: "
   ]
  },
  {
   "cell_type": "code",
   "execution_count": null,
   "metadata": {},
   "outputs": [],
   "source": [
    "#Search for land cover and print the number of results\n",
    "lc_results = gis.content.search(\"NLCD 2011, owner:esri\",item_type='image',outside_org=True)\n",
    "len(lc_results)"
   ]
  },
  {
   "cell_type": "markdown",
   "metadata": {},
   "source": [
    "► This gives us 10 results, enough to show a list..."
   ]
  },
  {
   "cell_type": "code",
   "execution_count": null,
   "metadata": {},
   "outputs": [],
   "source": [
    "#Show a complete list of results\n",
    "lc_results"
   ]
  },
  {
   "cell_type": "markdown",
   "metadata": {},
   "source": [
    "* The second item is the one we want. Let's store that as a variable named `lc_item`"
   ]
  },
  {
   "cell_type": "code",
   "execution_count": null,
   "metadata": {},
   "outputs": [],
   "source": [
    "#Get the second result and show it's info box in our notebook\n",
    "lc_item = lc_results[1]\n",
    "lc_item"
   ]
  },
  {
   "cell_type": "markdown",
   "metadata": {},
   "source": [
    "* Let's examine a few properties of this item. Because arcgis Item objects are dynamic (they can be vector or raster or...) the list of what properties can change. But we can get a list of properies via the `item.keys()` function:"
   ]
  },
  {
   "cell_type": "code",
   "execution_count": null,
   "metadata": {},
   "outputs": [],
   "source": [
    "#List the property keys associated with the item we fetched\n",
    "lc_item.keys()"
   ]
  },
  {
   "cell_type": "markdown",
   "metadata": {},
   "source": [
    "* Let's examine the services web address or its *URL*. Open this [URL](https://landscape10.arcgis.com/arcgis/rest/services/USA_NLCD_Land_Cover_2011/ImageServer) in your web browser. (Note, you'll have to authenticate as this layer is only available to ESRI license holders!) The web site include many of these properties as well..."
   ]
  },
  {
   "cell_type": "code",
   "execution_count": null,
   "metadata": {},
   "outputs": [],
   "source": [
    "#Get the URL\n",
    "lc_item['url'] #we could also use lc_item.url"
   ]
  },
  {
   "cell_type": "markdown",
   "metadata": {},
   "source": [
    "* Down the road, we may need the image's spatial reference, so let's store that as a variable."
   ]
  },
  {
   "cell_type": "code",
   "execution_count": null,
   "metadata": {},
   "outputs": [],
   "source": [
    "#Extract the image service's spatial reference to a variable\n",
    "lc_sr = lc_item.spatialReference\n",
    "lc_sr"
   ]
  },
  {
   "cell_type": "markdown",
   "metadata": {},
   "source": [
    "### From *arcgis* `item` to *arcgis* `layer`\n",
    "\n",
    "* Now we need to extract the data **layer** from the data **item**. The `layers` property returns a list of layers associated with this image service, of which there is only one. So we extract that one to a new variable called `lc_lyr`...<br>*Calling this variable displays it to our notebook!*"
   ]
  },
  {
   "cell_type": "code",
   "execution_count": null,
   "metadata": {},
   "outputs": [],
   "source": [
    "#Extract the one (and only) layer in the item to a new variable and display it\n",
    "lc_lyr = lc_item.layers[0]\n",
    "lc_lyr"
   ]
  },
  {
   "cell_type": "markdown",
   "metadata": {},
   "source": [
    "## Subsetting our image\n"
   ]
  },
  {
   "cell_type": "code",
   "execution_count": null,
   "metadata": {},
   "outputs": [],
   "source": [
    "#Create a map, zoomed to Durham\n",
    "m = gis.map(\"Durham, NC\")\n",
    "m"
   ]
  },
  {
   "cell_type": "code",
   "execution_count": null,
   "metadata": {},
   "outputs": [],
   "source": [
    "m.add_layer(lc_item)"
   ]
  },
  {
   "cell_type": "code",
   "execution_count": null,
   "metadata": {},
   "outputs": [],
   "source": [
    "#Create a polygon of our map's extent, in the same coordinate system as our NLCD image layer\n",
    "durhamZoom  = geocode('Durham, NC',out_sr = lc_item.spatialReference)[0]\n",
    "durham_extent = durhamZoom['extent']\n",
    "durham_extent"
   ]
  },
  {
   "cell_type": "code",
   "execution_count": null,
   "metadata": {},
   "outputs": [],
   "source": [
    "lc_lyr.extent =  durham_extent\n",
    "lc_lyr"
   ]
  },
  {
   "cell_type": "code",
   "execution_count": null,
   "metadata": {},
   "outputs": [],
   "source": [
    "img = lc_lyr.export_image(bbox=durham_extent,size=[500,450],f='image')\n",
    "Image(img)"
   ]
  },
  {
   "cell_type": "code",
   "execution_count": null,
   "metadata": {},
   "outputs": [],
   "source": [
    "savedimg = lc_lyr.export_image(bbox=durham_extent,\n",
    "                               f='json', \n",
    "                               save_folder='.', \n",
    "                               save_file='img.tif',\n",
    "                               export_format='tiff',\n",
    "                               compression_quality=100\n",
    "                              )"
   ]
  },
  {
   "cell_type": "code",
   "execution_count": null,
   "metadata": {},
   "outputs": [],
   "source": [
    "savedimg"
   ]
  },
  {
   "cell_type": "code",
   "execution_count": null,
   "metadata": {},
   "outputs": [],
   "source": [
    "durham_extent['xmax'] - durham_extent['xmin']"
   ]
  },
  {
   "cell_type": "markdown",
   "metadata": {},
   "source": [
    "# Image attributes"
   ]
  },
  {
   "cell_type": "code",
   "execution_count": null,
   "metadata": {},
   "outputs": [],
   "source": [
    "tbl = lc_lyr.attribute_table()\n",
    "histo = lc_lyr.compute_histograms(durham_extent)"
   ]
  },
  {
   "cell_type": "code",
   "execution_count": null,
   "metadata": {},
   "outputs": [],
   "source": [
    "import pandas as pd\n",
    "pd.DataFrame(tbl['attributes'])"
   ]
  }
 ],
 "metadata": {
  "kernelspec": {
   "display_name": "Python 3",
   "language": "python",
   "name": "python3"
  },
  "language_info": {
   "codemirror_mode": {
    "name": "ipython",
    "version": 3
   },
   "file_extension": ".py",
   "mimetype": "text/x-python",
   "name": "python",
   "nbconvert_exporter": "python",
   "pygments_lexer": "ipython3",
   "version": "3.6.5"
  }
 },
 "nbformat": 4,
 "nbformat_minor": 2
}
