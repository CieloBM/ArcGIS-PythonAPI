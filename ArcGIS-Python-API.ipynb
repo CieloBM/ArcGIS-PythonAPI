{
 "cells": [
  {
   "cell_type": "markdown",
   "metadata": {},
   "source": [
    "# The ArcGIS Python API\n",
    "ESRI has created a Python package called `arcgis` that, among other things, leverages on-line resources. We'll revisit all that this Python package can do later, but focus here on how we can use it to access and download spatial data hosted in the cloud, either on ArcGIS Online or via ArcGIS Servers. \n",
    "\n",
    "Documentaion: \n",
    "* Main site: https://developers.arcgis.com/python/\n",
    "* The GIS submodule: https://developers.arcgis.com/python/guide/the-gis-module/"
   ]
  },
  {
   "cell_type": "markdown",
   "metadata": {},
   "source": [
    "## Step 1. Create the *GIS object* and authenticate it\n",
    "* Resource: https://developers.arcgis.com/python/guide/using-the-gis/\n",
    "The ArcGIS API can be used \"anonomously\", or we can authenticate that we are ESRI license holders to tap into its full capabilities. Authentication is easy if you are using a Python environment derived from an ArcGIS Pro installation (and you've logged in at least once to ArcGIS Pro); otherwise, it can be a bit tricky - and you'll still need at least an ArcGIS Online account. \n",
    "\n",
    "Either way, it begins with installing the `GIS` module from the ArcGIS package. "
   ]
  },
  {
   "cell_type": "code",
   "execution_count": null,
   "metadata": {},
   "outputs": [],
   "source": [
    "#Import the module\n",
    "from arcgis import GIS"
   ]
  },
  {
   "cell_type": "markdown",
   "metadata": {},
   "source": [
    "Next we have to create a \"GIS\" object, which is our gateway to the fun. To do this anonymously, we could use the statement  `gis = GIS()`. But we'll authenticate with our ArcGIS Pro account: "
   ]
  },
  {
   "cell_type": "code",
   "execution_count": null,
   "metadata": {},
   "outputs": [],
   "source": [
    "#Create the GIS object, authenticating with your ArcGIS Pro account\n",
    "gis = GIS('pro')"
   ]
  },
  {
   "cell_type": "code",
   "execution_count": null,
   "metadata": {},
   "outputs": [],
   "source": [
    "#Reveal a bit of documentation abot this object\n",
    "gis?"
   ]
  },
  {
   "cell_type": "markdown",
   "metadata": {},
   "source": [
    "### Step 2. Searching for and accessing content\n",
    "* Resource: [https://developers.arcgis.com/python/guide/accessing-and-creating-content/](https://developers.arcgis.com/python/guide/accessing-and-creating-content/#searching-for-content)\n",
    "Through the ArcGIS API, we can access to all content shared on ArcGIS Online! We just need to locate what we need by searching for it, which is done via the `content` property of our `gis` object, also refered to as the \"Content Manager\"."
   ]
  },
  {
   "cell_type": "markdown",
   "metadata": {},
   "source": [
    "#### A simple search\n",
    "Here we search for all Feature Layers located in Duke's AGOL portal. *Note: by default, searches are limited to items shared within your own AGOL organization*"
   ]
  },
  {
   "cell_type": "code",
   "execution_count": null,
   "metadata": {},
   "outputs": [],
   "source": [
    "# search and list all \"feature layer\" items shared at Duke\n",
    "search_result = gis.content.search(query=\"\", item_type=\"Feature Layer\")\n",
    "search_result"
   ]
  },
  {
   "cell_type": "markdown",
   "metadata": {},
   "source": [
    "To see what other \"item_types\" we can search for, consult the [Search reference](https://developers.arcgis.com/rest/users-groups-and-items/search-reference.htm) page, specifically the [page](https://developers.arcgis.com/rest/users-groups-and-items/items-and-item-types.htm) listing item-types."
   ]
  },
  {
   "cell_type": "markdown",
   "metadata": {},
   "source": [
    "► Write the code to reveal all the \"Map\" items shared within Duke. "
   ]
  },
  {
   "cell_type": "code",
   "execution_count": null,
   "metadata": {},
   "outputs": [],
   "source": [
    "search_result = gis.content.search(query=\"\", item_type=\"Layer\")\n",
    "search_result"
   ]
  },
  {
   "cell_type": "markdown",
   "metadata": {},
   "source": [
    "► Try some other search parameters:\n",
    "* `query=\"\", item_type=\"Image\"`\n",
    "* `query=\"owner:john.fay\"`\n",
    "* `query=\"owner:nconemap\",outside_org=True`"
   ]
  },
  {
   "cell_type": "code",
   "execution_count": null,
   "metadata": {},
   "outputs": [],
   "source": [
    "search_result = gis.content.search(query=\"owner:nconemap\",outside_org=True)\n",
    "search_result"
   ]
  },
  {
   "cell_type": "markdown",
   "metadata": {},
   "source": [
    "You can display snapshots of the services returned in the Jupyter notebook using the IPython display object"
   ]
  },
  {
   "cell_type": "code",
   "execution_count": null,
   "metadata": {},
   "outputs": [],
   "source": [
    "#Display the first 5 items in the last search result\n",
    "from IPython.display import display\n",
    "for item in search_result[:5]:\n",
    "    display(item)"
   ]
  },
  {
   "cell_type": "markdown",
   "metadata": {},
   "source": [
    "### Working with `items`\n",
    "Our search results returned a number of `item` objects. Documentation on what you can do with these objects is found in the arcgis python api documentation: https://esri.github.io/arcgis-python-api/apidoc/html/ (Expand the `arcgis.gis module` entry on the left, then select `item`)"
   ]
  },
  {
   "cell_type": "code",
   "execution_count": null,
   "metadata": {},
   "outputs": [],
   "source": [
    "parcels = search_result[0]\n",
    "type(parcels)"
   ]
  },
  {
   "cell_type": "code",
   "execution_count": null,
   "metadata": {},
   "outputs": [],
   "source": [
    "parcels?"
   ]
  },
  {
   "cell_type": "code",
   "execution_count": null,
   "metadata": {},
   "outputs": [],
   "source": [
    "parcels.get_data?"
   ]
  },
  {
   "cell_type": "code",
   "execution_count": null,
   "metadata": {},
   "outputs": [],
   "source": [
    "data = parcels.get_data()\n",
    "type(data)"
   ]
  },
  {
   "cell_type": "code",
   "execution_count": null,
   "metadata": {},
   "outputs": [],
   "source": [
    "data.keys()"
   ]
  },
  {
   "cell_type": "code",
   "execution_count": null,
   "metadata": {},
   "outputs": [],
   "source": [
    "oLayers = data['operationalLayers']\n",
    "len(oLayers)"
   ]
  },
  {
   "cell_type": "code",
   "execution_count": null,
   "metadata": {},
   "outputs": [],
   "source": [
    "oLayers[1]"
   ]
  }
 ],
 "metadata": {
  "kernelspec": {
   "display_name": "Python 3",
   "language": "python",
   "name": "python3"
  },
  "language_info": {
   "codemirror_mode": {
    "name": "ipython",
    "version": 3
   },
   "file_extension": ".py",
   "mimetype": "text/x-python",
   "name": "python",
   "nbconvert_exporter": "python",
   "pygments_lexer": "ipython3",
   "version": "3.6.6"
  }
 },
 "nbformat": 4,
 "nbformat_minor": 2
}
