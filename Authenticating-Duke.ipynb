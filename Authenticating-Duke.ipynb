{
 "cells": [
  {
   "cell_type": "markdown",
   "metadata": {},
   "source": [
    "# Authenticating using your NetID\n",
    "Resource: https://developers.arcgis.com/python/guide/working-with-different-authentication-schemes/#User-authentication-with-OAuth-2.0\n",
    "\n",
    "The steps below show how a client id can be obtained by registering a new application with your GIS. Only one client id is required, so if your GIS has one already, you may use it instead of creating a new application.\n",
    "\n",
    "*    Log into https://dukeuniv.maps.arcgis.com\n",
    "*    Go to **Content** tab\n",
    "*    Click '+ Add Item > An Application' menu\n",
    "*    Add an application:\n",
    " *       Type: `Application`\n",
    " *       Title: `Python`\n",
    " *       Tags: `python`\n",
    "*    On the Item details page of this newly created application, navigate to **Settings** tab\n",
    "*    Click the **Registered Info** button. It's towards the bottom of the page.\n",
    "*    This will dispaly an **App ID**. This is your client id and needs to be passed in as the client_id parameter when construcing a GIS object. You need this in your Python code to log in.\n"
   ]
  },
  {
   "cell_type": "code",
   "execution_count": 1,
   "metadata": {},
   "outputs": [],
   "source": [
    "#Import the arcgis GIS helper\n",
    "from arcgis import GIS"
   ]
  },
  {
   "cell_type": "code",
   "execution_count": 2,
   "metadata": {},
   "outputs": [
    {
     "name": "stdout",
     "output_type": "stream",
     "text": [
      "Please sign in to your GIS and paste the code that is obtained below.\n",
      "If a web browser does not automatically open, please navigate to the URL below yourself instead.\n",
      "Opening web browser to navigate to: https://dukeuniv.maps.arcgis.com/sharing/rest/oauth2/authorize?client_id=YmtqqKYoHULH1M2l&response_type=code&expiration=-1&redirect_uri=urn%3Aietf%3Awg%3Aoauth%3A2.0%3Aoob\n",
      "Enter code obtained on signing in using SAML: ········\n",
      "Successfully logged in as :jpfay_dukeuniv\n"
     ]
    }
   ],
   "source": [
    "#Authenticate\n",
    "gis = GIS('https://dukeuniv.maps.arcgis.com',client_id = 'YmtqqKYoHULH1M2l')\n",
    "print('Successfully logged in as :'+gis.properties.user.username)"
   ]
  },
  {
   "cell_type": "code",
   "execution_count": 4,
   "metadata": {},
   "outputs": [
    {
     "data": {
      "text/plain": [
       "'jpfay_dukeuniv'"
      ]
     },
     "execution_count": 4,
     "metadata": {},
     "output_type": "execute_result"
    }
   ],
   "source": [
    "gis.properties.user.username"
   ]
  }
 ],
 "metadata": {
  "kernelspec": {
   "display_name": "Python 3",
   "language": "python",
   "name": "python3"
  },
  "language_info": {
   "codemirror_mode": {
    "name": "ipython",
    "version": 3
   },
   "file_extension": ".py",
   "mimetype": "text/x-python",
   "name": "python",
   "nbconvert_exporter": "python",
   "pygments_lexer": "ipython3",
   "version": "3.6.6"
  }
 },
 "nbformat": 4,
 "nbformat_minor": 2
}
